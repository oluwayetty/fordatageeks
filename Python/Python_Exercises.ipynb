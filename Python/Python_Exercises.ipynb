{
  "nbformat": 4,
  "nbformat_minor": 0,
  "metadata": {
    "colab": {
      "provenance": []
    },
    "kernelspec": {
      "name": "python3",
      "display_name": "Python 3"
    },
    "language_info": {
      "name": "python"
    }
  },
  "cells": [
    {
      "cell_type": "markdown",
      "source": [
        "LEVEL 1 EXERCISES\n",
        "\n",
        "1. Integer and Float:\n",
        "- Create variables to store an integer and a float.\n",
        "- Perform arithmetic operations (addition, subtraction, multiplication, - division) on these variables.\n",
        "\n",
        "2. String Manipulation:\n",
        "- Declare a string variable and print its length.\n",
        "- Concatenate two strings and print the result.\n",
        "- Extract a substring from a string.\n",
        "\n",
        "3. Boolean Operations:\n",
        "- Create boolean variables and perform logical operations (and, or, not) on them.\n",
        "- Compare two variables using comparison operators (==, !=, <, >).\n",
        "\n",
        "4. List Handling:\n",
        "- Create a list of numbers and find the sum and average.\n",
        "- Append an element to the list and remove an element from it.\n",
        "- Access specific elements in the list.\n",
        "\n",
        "5. Dictionary Usage:\n",
        "- Create a dictionary with key-value pairs.\n",
        "- Access and print values using keys.\n",
        "- Add, update, and delete items in the dictionary.\n",
        "\n",
        "6. Loops\n",
        "- Range-based Loop: Use a for loop to iterate through a range of numbers and print each value.\n",
        "- List Iteration: Iterate over a list and perform an operation on each element.\n",
        "- String Iteration: Use a for loop to iterate over characters in a string.\n",
        "- Countdown: Implement a while loop that counts down from 10 to 1.\n",
        "- User Input Validation: Use a while loop to repeatedly prompt the user for input until they enter a valid number.\n",
        "- Sum of Numbers: Write a program that calculates the sum of numbers entered by the user until a specific condition is met."
      ],
      "metadata": {
        "id": "OQIFjBLtzzgo"
      }
    },
    {
      "cell_type": "markdown",
      "source": [
        "LEVEL 2 EXERCISES\n",
        "\n",
        "1. Write a Python program to add 'ing' at the end of a given string. If the given string already ends with 'ing' then add 'ly' instead. If the string length of the given string is less than 3, leave it unchanged.\n",
        "Sample String : 'abc'\n",
        "Expected Result : 'abcing'\n",
        "Sample String : 'string'\n",
        "Expected Result : 'stringly'\n",
        "2. Write a Python program to test whether a variable you have declared is an integer. HINT: if/else statement and type() function.\n",
        "3. Write a Python program to check if a given key already exists in a dictionary. Declare the dictionary yourself.\n",
        "4. You are given a list of numbers: ```numbers = [1, 2, 3, 4, 5, 6, 7, 8, 9, 10]```. Using list comprehension, create a new list that contains only the even numbers from the original list.\n",
        "5. You are given a list of cities and their respective populations. Create formatted strings for each city, including its name and population.\n",
        "```\n",
        "cities = [\n",
        "    {\"name\": \"New York\", \"population\": 8419600},\n",
        "    {\"name\": \"Los Angeles\", \"population\": 3980400},\n",
        "    {\"name\": \"Chicago\", \"population\": 2716000},\n",
        "    {\"name\": \"Houston\", \"population\": 2328000},\n",
        "]\n",
        "```\n",
        "\n",
        "Your output should be something like:\n",
        "New York Population is: 8,419,600\n",
        "Los Angeles Population is: 3,980,400\n",
        "Chicago Population is: 2,716,000\n",
        "Houston Population is: 2,328,000"
      ],
      "metadata": {
        "id": "ay6ExsQyS81q"
      }
    }
  ]
}