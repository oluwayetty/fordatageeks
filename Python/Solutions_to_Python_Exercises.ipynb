{
  "nbformat": 4,
  "nbformat_minor": 0,
  "metadata": {
    "colab": {
      "provenance": []
    },
    "kernelspec": {
      "name": "python3",
      "display_name": "Python 3"
    },
    "language_info": {
      "name": "python"
    }
  },
  "cells": [
    {
      "cell_type": "markdown",
      "source": [
        "LEVEL 1 EXERCISES\n",
        "\n",
        "1. Integer and Float:\n",
        "- Create variables to store an integer and a float.\n",
        "- Perform arithmetic operations (addition, subtraction, multiplication, - division) on these variables.\n",
        "\n",
        "2. String Manipulation:\n",
        "- Declare a string variable and print its length.\n",
        "- Concatenate two strings and print the result.\n",
        "- Extract a substring from a string.\n",
        "\n",
        "3. Boolean Operations:\n",
        "- Create boolean variables and perform logical operations (and, or, not) on them.\n",
        "- Compare two variables using comparison operators (==, !=, <, >).\n",
        "\n",
        "4. List Handling:\n",
        "- Create a list of numbers and find the sum and average.\n",
        "- Append an element to the list and remove an element from it.\n",
        "- Access specific elements in the list.\n",
        "\n",
        "5. Dictionary Usage:\n",
        "- Create a dictionary with key-value pairs.\n",
        "- Access and print values using keys.\n",
        "- Add, update, and delete items in the dictionary.\n",
        "\n",
        "6. Loops\n",
        "- Range-based Loop: Use a for loop to iterate through a range of numbers and print each value.\n",
        "- List Iteration: Iterate over a list and perform an operation on each element.\n",
        "- String Iteration: Use a for loop to iterate over characters in a string.\n",
        "- Countdown: Implement a while loop that counts down from 10 to 1.\n",
        "- User Input Validation: Use a while loop to repeatedly prompt the user for input until they enter a valid number.\n",
        "- Sum of Numbers: Write a program that calculates the sum of numbers entered by the user until a specific condition is met."
      ],
      "metadata": {
        "id": "OQIFjBLtzzgo"
      }
    },
    {
      "cell_type": "code",
      "source": [
        "# DICTIONARY\n",
        "\n",
        "# Create a dictionary with key-value pairs\n",
        "my_dictionary = {\n",
        "    \"name\": \"John\",\n",
        "    \"age\": 25,\n",
        "    \"city\": \"Exampleville\",\n",
        "    \"occupation\": \"Engineer\"\n",
        "}\n",
        "\n",
        "# Access and print values using keys\n",
        "print(\"Name:\", my_dictionary[\"name\"])\n",
        "print(\"Age:\", my_dictionary[\"age\"])\n",
        "print(\"City:\", my_dictionary[\"city\"])\n",
        "print(\"Occupation:\", my_dictionary[\"occupation\"])\n",
        "\n",
        "# Add a new item to the dictionary\n",
        "my_dictionary[\"gender\"] = \"Male\"\n",
        "print(\"Gender:\", my_dictionary[\"gender\"])\n",
        "\n",
        "# Update the value of an existing item\n",
        "my_dictionary[\"age\"] = 26\n",
        "print(\"Updated Age:\", my_dictionary[\"age\"])\n",
        "\n",
        "# Delete an item from the dictionary\n",
        "my_dictionary.pop(\"occupation\")\n",
        "removed_occupation = my_dictionary.pop(\"occupation\", None)\n",
        "print(\"Removed Occupation:\", removed_occupation)\n",
        "\n",
        "# Print the modified dictionary\n",
        "print(\"Updated Dictionary:\", my_dictionary)"
      ],
      "metadata": {
        "id": "MvUjdm3xxGzX"
      },
      "execution_count": null,
      "outputs": []
    },
    {
      "cell_type": "code",
      "source": [
        "# 6 - Range\n",
        "# Use a for loop to iterate through a range of numbers and print each value.\n",
        "for num in range(1, 6):\n",
        "    print(num)"
      ],
      "metadata": {
        "id": "K9fvmXrkxhsz"
      },
      "execution_count": null,
      "outputs": []
    },
    {
      "cell_type": "code",
      "source": [
        "# 6 - List Iteration\n",
        "\n",
        "# Iterate over a list and perform an operation on each element.\n",
        "numbers = [2, 4, 6, 8, 10]\n",
        "for num in numbers:\n",
        "    doubled_num = num * 2\n",
        "    print(doubled_num)"
      ],
      "metadata": {
        "id": "Cd_HZ27_xpB8"
      },
      "execution_count": null,
      "outputs": []
    },
    {
      "cell_type": "code",
      "source": [
        "# 6 - String Iteration\n",
        "\n",
        "# Use a for loop to iterate over characters in a string.\n",
        "my_string = \"Hello, World!\"\n",
        "for char in my_string:\n",
        "    print(char)\n"
      ],
      "metadata": {
        "id": "0jBNqIDVxtyf"
      },
      "execution_count": null,
      "outputs": []
    },
    {
      "cell_type": "code",
      "source": [
        "# 6 - While Countdown\n",
        "\n",
        "# Implement a while loop that counts down from 10 to 1.\n",
        "count = 10\n",
        "while count >= 1:\n",
        "    print(count)\n",
        "    count = count - 1 # count -= 1"
      ],
      "metadata": {
        "id": "ScvrYaTwx8yB"
      },
      "execution_count": null,
      "outputs": []
    },
    {
      "cell_type": "code",
      "source": [
        "# 6 - While Countdown\n",
        "\n",
        "# Implement a while loop that counts down from 10 to 1.\n",
        "count = 10\n",
        "while count >= 1:\n",
        "    print(count)\n",
        "    count = count - 1 # count -= 1"
      ],
      "metadata": {
        "id": "cT48rimSyMNH"
      },
      "execution_count": null,
      "outputs": []
    },
    {
      "cell_type": "code",
      "source": [
        "# Use a while loop to repeatedly prompt the user for input until they enter a valid number.\n",
        "\n",
        "valid_input = False\n",
        "while valid_input:\n",
        "    user_input = input(\"Enter a number: \")\n",
        "    if type(user_input) == int:  # user_input.isdigit():\n",
        "        valid_input = True\n",
        "    else:\n",
        "        print(\"Invalid input. Please enter a valid number.\")"
      ],
      "metadata": {
        "id": "UmqeYhGUyRiB"
      },
      "execution_count": null,
      "outputs": []
    },
    {
      "cell_type": "code",
      "source": [
        "# Write a program that calculates the sum of numbers entered by the user until a specific condition is met.\n",
        "sum_result = 0\n",
        "while True:\n",
        "    user_input = input(\"Enter a number (or 'done' to finish): \")\n",
        "    if user_input.lower() == 'done':\n",
        "        break\n",
        "    elif user_input.isdigit():\n",
        "        sum_result += int(user_input)\n",
        "\n",
        "print(\"Sum of numbers:\", sum_result)"
      ],
      "metadata": {
        "id": "MPNWwcRiyflr"
      },
      "execution_count": null,
      "outputs": []
    },
    {
      "cell_type": "markdown",
      "source": [
        "LEVEL 2 EXERCISES\n",
        "\n",
        "1. Write a Python program to add 'ing' at the end of a given string. If the given string already ends with 'ing' then add 'ly' instead. If the string length of the given string is less than 3, leave it unchanged.\n",
        "Sample String : 'abc'\n",
        "Expected Result : 'abcing'\n",
        "Sample String : 'string'\n",
        "Expected Result : 'stringly'\n",
        "2. Write a Python program to test whether a variable you have declared is an integer. HINT: if/else statement and type() function.\n",
        "3. Write a Python program to check if a given key already exists in a dictionary. Declare the dictionary yourself.\n",
        "4. You are given a list of numbers: ```numbers = [1, 2, 3, 4, 5, 6, 7, 8, 9, 10]```. Using list comprehension, create a new list that contains only the even numbers from the original list.\n",
        "5. You are given a list of cities and their respective populations. Create formatted strings for each city, including its name and population.\n",
        "```\n",
        "cities = [\n",
        "    {\"name\": \"New York\", \"population\": 8419600},\n",
        "    {\"name\": \"Los Angeles\", \"population\": 3980400},\n",
        "    {\"name\": \"Chicago\", \"population\": 2716000},\n",
        "    {\"name\": \"Houston\", \"population\": 2328000},\n",
        "]\n",
        "```\n",
        "\n",
        "Your output should be something like:\n",
        "New York Population is: 8,419,600\n",
        "Los Angeles Population is: 3,980,400\n",
        "Chicago Population is: 2,716,000\n",
        "Houston Population is: 2,328,000"
      ],
      "metadata": {
        "id": "ay6ExsQyS81q"
      }
    },
    {
      "cell_type": "code",
      "source": [
        "sample_string1 = 'loving'\n",
        "if len(sample_string1) < 3:\n",
        "    result1 = sample_string1\n",
        "elif sample_string1.endswith('ing'):\n",
        "    result1 = sample_string1 + 'ly'\n",
        "else:\n",
        "    result1 = sample_string1 + 'ing'\n",
        "\n",
        "print(f\"Sample String: '{sample_string1}', Expected Result: '{result1}'\")"
      ],
      "metadata": {
        "colab": {
          "base_uri": "https://localhost:8080/"
        },
        "id": "HIcDr9sVzG9-",
        "outputId": "2495913a-dacc-4c64-b829-b0b72a32e79b"
      },
      "execution_count": null,
      "outputs": [
        {
          "output_type": "stream",
          "name": "stdout",
          "text": [
            "Sample String: 'loving', Expected Result: 'lovingly'\n"
          ]
        }
      ]
    },
    {
      "cell_type": "code",
      "source": [
        "# Declare a variable\n",
        "my_variable = 42\n",
        "\n",
        "# Test if the variable is an integer\n",
        "if type(my_variable) == int:\n",
        "    print(f\"The variable '{my_variable}' is an integer.\")\n",
        "else:\n",
        "    print(f\"The variable '{my_variable}' is not an integer.\")\n"
      ],
      "metadata": {
        "colab": {
          "base_uri": "https://localhost:8080/"
        },
        "id": "zOCqwAOqzpLv",
        "outputId": "7b1278ec-e4f1-49f5-cfc4-30a4332cd52f"
      },
      "execution_count": null,
      "outputs": [
        {
          "output_type": "stream",
          "name": "stdout",
          "text": [
            "The variable '42' is an integer.\n"
          ]
        }
      ]
    },
    {
      "cell_type": "code",
      "source": [
        "# Declare a dictionary\n",
        "my_dict = {'name': 'John', 'age': 25, 'city': 'Exampleville'}\n",
        "\n",
        "# Given key to check\n",
        "given_key = 'gender'\n",
        "\n",
        "# Check if the key exists in the dictionary\n",
        "if given_key in my_dict:\n",
        "    print(f\"The key '{given_key}' already exists in the dictionary.\")\n",
        "else:\n",
        "    print(f\"The key '{given_key}' does not exist in the dictionary.\")"
      ],
      "metadata": {
        "colab": {
          "base_uri": "https://localhost:8080/"
        },
        "id": "FLx15alizwkR",
        "outputId": "ed276272-b3b7-4bc1-830e-9e6e800dc59e"
      },
      "execution_count": null,
      "outputs": [
        {
          "output_type": "stream",
          "name": "stdout",
          "text": [
            "The key 'gender' does not exist in the dictionary.\n"
          ]
        }
      ]
    },
    {
      "cell_type": "code",
      "source": [
        "# Original list of numbers\n",
        "numbers = [1, 2, 3, 4, 5, 6, 7, 8, 9, 10]\n",
        "\n",
        "# List comprehension to get even numbers\n",
        "even_numbers = [num for num in numbers if num % 2 == 0]\n",
        "\n",
        "# Print the result\n",
        "print(\"Original list:\", numbers)\n",
        "print(\"Even numbers list:\", even_numbers)"
      ],
      "metadata": {
        "colab": {
          "base_uri": "https://localhost:8080/"
        },
        "id": "4lp9j17Lz1j8",
        "outputId": "dc73bfa6-a5a8-41f5-b906-9a1b5b59297d"
      },
      "execution_count": null,
      "outputs": [
        {
          "output_type": "stream",
          "name": "stdout",
          "text": [
            "Original list: [1, 2, 3, 4, 5, 6, 7, 8, 9, 10]\n",
            "Even numbers list: [2, 4, 6, 8, 10]\n"
          ]
        }
      ]
    },
    {
      "cell_type": "code",
      "source": [
        "cities = [\n",
        "    {\"name\": \"New York\", \"population\": 8419600},\n",
        "    {\"name\": \"Los Angeles\", \"population\": 3980400},\n",
        "    {\"name\": \"Chicago\", \"population\": 2716000},\n",
        "    {\"name\": \"Houston\", \"population\": 2328000},\n",
        "]\n",
        "\n",
        "# Format strings for each city\n",
        "formatted_strings = [f\"{city['name']} Population is: {format(city['population'], ',')}\" for city in cities]\n",
        "\n",
        "# Print the result\n",
        "for formatted_string in formatted_strings:\n",
        "    print(formatted_string)\n"
      ],
      "metadata": {
        "colab": {
          "base_uri": "https://localhost:8080/"
        },
        "id": "8AwHDPsXz8dW",
        "outputId": "3e9d1e2a-8996-43bf-b872-afbf3611c4fd"
      },
      "execution_count": null,
      "outputs": [
        {
          "output_type": "stream",
          "name": "stdout",
          "text": [
            "New York Population is: 8,419,600\n",
            "Los Angeles Population is: 3,980,400\n",
            "Chicago Population is: 2,716,000\n",
            "Houston Population is: 2,328,000\n"
          ]
        }
      ]
    }
  ]
}